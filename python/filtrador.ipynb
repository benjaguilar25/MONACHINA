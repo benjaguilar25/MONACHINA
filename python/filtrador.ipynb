{
  "cells": [
    {
      "cell_type": "markdown",
      "metadata": {},
      "source": [
        "# Filtración de datos\n",
        "### Descargar los datos y descomprimirlos"
      ]
    },
    {
      "cell_type": "code",
      "execution_count": 1,
      "metadata": {
        "id": "tMIWhYYH8jzW"
      },
      "outputs": [],
      "source": [
        "!pip install -q kaggle\n",
        "! mkdir ~/.kaggle\n",
        "! cp kaggle.json ~/.kaggle/\n",
        "! chmod 600 ~/.kaggle/kaggle.json\n",
        "! kaggle datasets download svanoo/myanimelist-dataset/\n",
        "! unzip myanimelist-dataset.zip\n",
        "! mkdir data\n",
        "! mv /content/user_anime* /content/data\n",
        "! mv /content/animes* /content/data"
      ]
    },
    {
      "cell_type": "markdown",
      "metadata": {},
      "source": [
        "### Importar librerias"
      ]
    },
    {
      "cell_type": "code",
      "execution_count": 30,
      "metadata": {
        "id": "Xmm_VThZGPcM"
      },
      "outputs": [],
      "source": [
        "import pandas as pd\n",
        "import os"
      ]
    },
    {
      "cell_type": "markdown",
      "metadata": {},
      "source": [
        "### Filtración de Animes por Season"
      ]
    },
    {
      "cell_type": "code",
      "execution_count": null,
      "metadata": {
        "id": "ePhTJXeV-2l5"
      },
      "outputs": [],
      "source": [
        "intresting_years = [\"2016\", \"2017\", \"2018\", \"2019\", \"2020\"]\n",
        "seasons = [\"Fall \", \"Winter \", \"Spring \", \"Summer \"]\n",
        "\n",
        "interesting_seasons = []\n",
        "for y in range(len(intresting_years)):\n",
        "    for s in range(len(seasons)):\n",
        "        interesting_seasons +=[seasons[s] + intresting_years[y]]\n",
        "print(interesting_seasons)\n",
        "\n",
        "anime = pd.read_csv('anime.csv', sep = '\\t', keep_default_na=False)\n",
        "anime_count = 0\n",
        "ids = []\n",
        "titles = []\n",
        "for i in range(len(anime)):\n",
        "    #print(anime.loc[i, \"season\"])\n",
        "    if(anime.loc[i, \"season\"]) in interesting_seasons:\n",
        "        anime_count += 1\n",
        "        ids += [anime.loc[i,\"anime_id\"]]\n",
        "        titles+= [anime.loc[i,\"title\"]]\n",
        "print(anime_count)\n",
        "\n",
        "data = {'title': titles, 'id' : ids}\n",
        "df = pd.DataFrame(data)\n",
        "df.to_csv('data/filtered_anime.csv')\n",
        "ids = df.loc[:, \"id\"]\n",
        "titles = df.loc[:, \"title\"]\n",
        "zipped = zip(ids, titles)\n",
        "usable = dict(zipped)"
      ]
    },
    {
      "cell_type": "markdown",
      "metadata": {},
      "source": [
        "### Filtrar interacciones por espacios vacíos"
      ]
    },
    {
      "cell_type": "code",
      "execution_count": null,
      "metadata": {},
      "outputs": [],
      "source": [
        "filenames = os.listdir(\"/content/data\")\n",
        "filenames.sort()\n",
        "filenames = filenames[2:]\n",
        "\n",
        "l = len(filenames)\n",
        "dataframes = filenames\n",
        "for i in range(l):\n",
        "  df = pd.read_csv('/content/data/' + filenames[i], sep='\\t')\n",
        "  print(filenames[i])\n",
        "  ndf = df.dropna()\n",
        "  print(str(len(df))+\" -> \"+str(len(ndf)))\n",
        "  dataframes[i] = ndf\n",
        "\n",
        "masterdf = pd.concat(dataframes)\n",
        "masterdf.to_csv('/content/data1/filtered_interactions.csv')"
      ]
    },
    {
      "cell_type": "markdown",
      "metadata": {},
      "source": [
        "### Diccionario con id animes"
      ]
    },
    {
      "cell_type": "code",
      "execution_count": null,
      "metadata": {},
      "outputs": [],
      "source": [
        "\n",
        "ids = df.loc[:, \"id\"]\n",
        "titles = df.loc[:, \"title\"]\n",
        "zipped = zip(ids, titles)\n",
        "usable = dict(zipped)"
      ]
    },
    {
      "cell_type": "markdown",
      "metadata": {},
      "source": [
        "### Último filtro"
      ]
    },
    {
      "cell_type": "code",
      "execution_count": null,
      "metadata": {
        "id": "UR6hAYweEvMQ"
      },
      "outputs": [],
      "source": [
        "df = pd.read_csv('/content/data1/filtered_interactions.csv')\n",
        "print(len(df))\n",
        "l = len(df)\n",
        "print(df.head())\n",
        "x = 0\n",
        "for i in range(l):\n",
        "    p = i/l*100\n",
        "    print(str(p)+\"%\")\n",
        "    if not (df.loc[i,'anime_id'] in usable):\n",
        "        df.drop(i)\n",
        "df.to_csv('/content/data1/usefull_interactions.csv', sep=',', encoding='utf-8')"
      ]
    }
  ],
  "metadata": {
    "colab": {
      "collapsed_sections": [],
      "name": "Untitled0.ipynb",
      "provenance": []
    },
    "kernelspec": {
      "display_name": "Python 3",
      "name": "python3"
    },
    "language_info": {
      "name": "python"
    }
  },
  "nbformat": 4,
  "nbformat_minor": 0
}
