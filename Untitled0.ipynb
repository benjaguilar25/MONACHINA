{
  "nbformat": 4,
  "nbformat_minor": 0,
  "metadata": {
    "colab": {
      "name": "Untitled0.ipynb",
      "provenance": [],
      "collapsed_sections": []
    },
    "kernelspec": {
      "name": "python3",
      "display_name": "Python 3"
    },
    "language_info": {
      "name": "python"
    }
  },
  "cells": [
    {
      "cell_type": "code",
      "execution_count": 1,
      "metadata": {
        "id": "tMIWhYYH8jzW"
      },
      "outputs": [],
      "source": [
        "!pip install -q kaggle\n",
        "! mkdir ~/.kaggle\n",
        "! cp kaggle.json ~/.kaggle/\n",
        "! chmod 600 ~/.kaggle/kaggle.json\n",
        "! kaggle datasets download svanoo/myanimelist-dataset/\n",
        "! unzip myanimelist-dataset.zip\n",
        "! mv /content/user_anime* /content/data"
      ]
    },
    {
      "cell_type": "code",
      "source": [
        "import pandas as pd\n",
        "import os"
      ],
      "metadata": {
        "id": "Xmm_VThZGPcM"
      },
      "execution_count": 30,
      "outputs": []
    },
    {
      "cell_type": "code",
      "source": [
        "intresting_years = [\"2016\", \"2017\", \"2018\", \"2019\", \"2020\"]\n",
        "seasons = [\"Fall \", \"Winter \", \"Spring \", \"Summer \"]\n",
        "\n",
        "interesting_seasons = []\n",
        "for y in range(len(intresting_years)):\n",
        "    for s in range(len(seasons)):\n",
        "        interesting_seasons +=[seasons[s] + intresting_years[y]]\n",
        "print(interesting_seasons)\n",
        "\n",
        "anime = pd.read_csv('anime.csv', sep = '\\t', keep_default_na=False)\n",
        "anime_count = 0\n",
        "ids = []\n",
        "titles = []\n",
        "for i in range(len(anime)):\n",
        "    #print(anime.loc[i, \"season\"])\n",
        "    if(anime.loc[i, \"season\"]) in interesting_seasons:\n",
        "        anime_count += 1\n",
        "        ids += [anime.loc[i,\"anime_id\"]]\n",
        "        titles+= [anime.loc[i,\"title\"]]\n",
        "print(anime_count)\n",
        "\n",
        "data = {'title': titles, 'id' : ids}\n",
        "df = pd.DataFrame(data)\n",
        "df.to_csv('data/filtered_anime.csv')"
      ],
      "metadata": {
        "id": "ePhTJXeV-2l5"
      },
      "execution_count": null,
      "outputs": []
    },
    {
      "cell_type": "code",
      "source": [
        "animes = pd.read_csv(\"/content/data/filtered_anime.csv\")\n",
        "ids = animes.loc[:, \"id\"]\n",
        "titles = animes.loc[:, \"title\"]\n",
        "zipped = zip(ids, titles)\n",
        "usable = dict(zipped)\n",
        "\n",
        "filenames = os.listdir(\"/content/data\")\n",
        "filenames.sort()\n",
        "filenames = filenames[2:]\n",
        "\n",
        "print(filenames)"
      ],
      "metadata": {
        "id": "cV6w4z0__7Lp"
      },
      "execution_count": null,
      "outputs": []
    },
    {
      "cell_type": "code",
      "source": [
        "l = len(filenames)\n",
        "dataframes = filenames\n",
        "for i in range(l):\n",
        "  df = pd.read_csv('/content/data/' + filenames[i], sep='\\t')\n",
        "  print(filenames[i])\n",
        "  ndf = df.dropna()\n",
        "  print(str(len(df))+\" -> \"+str(len(ndf)))\n",
        "  dataframes[i] = ndf\n",
        "\n",
        "masterdf = pd.concat(dataframes)\n",
        "print(len(masterdf))"
      ],
      "metadata": {
        "id": "JQfEgX8fFlWx"
      },
      "execution_count": null,
      "outputs": []
    },
    {
      "cell_type": "code",
      "source": [
        "masterdf.to_csv('/content/data1/filtered_interactions.csv')"
      ],
      "metadata": {
        "id": "btc2liLmLLx9"
      },
      "execution_count": 47,
      "outputs": []
    },
    {
      "cell_type": "code",
      "source": [
        "df = pd.read_csv('/content/data1/filtered_interactions.csv')\n",
        "print(len(df))\n",
        "l = len(df)\n",
        "print(df.head())\n",
        "x = 0\n",
        "for i in range(l):\n",
        "    p = i/l*100\n",
        "    print(str(p)+\"%\")\n",
        "    if not (df.loc[i,'anime_id'] in usable):\n",
        "        df.drop(i)"
      ],
      "metadata": {
        "id": "UR6hAYweEvMQ"
      },
      "execution_count": null,
      "outputs": []
    },
    {
      "cell_type": "code",
      "source": [
        "df.to_csv('/content/data1/usefull_interactions.csv', sep=',', encoding='utf-8')"
      ],
      "metadata": {
        "id": "hnXOI-xsZo6p"
      },
      "execution_count": 57,
      "outputs": []
    }
  ]
}